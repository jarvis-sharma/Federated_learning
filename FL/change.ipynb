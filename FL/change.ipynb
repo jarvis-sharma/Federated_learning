{
 "cells": [
  {
   "cell_type": "code",
   "execution_count": 1,
   "id": "a46ecdf2",
   "metadata": {},
   "outputs": [],
   "source": [
    "import numpy as np"
   ]
  },
  {
   "cell_type": "code",
   "execution_count": 3,
   "id": "3d4b89fd",
   "metadata": {},
   "outputs": [],
   "source": [
    "d1=np.load('/home/ubuntu/Downloads/FL/X_train1.npy')"
   ]
  },
  {
   "cell_type": "code",
   "execution_count": 4,
   "id": "4211733d",
   "metadata": {},
   "outputs": [],
   "source": [
    "d2=np.load('/home/ubuntu/Downloads/FL/X_train2.npy')"
   ]
  },
  {
   "cell_type": "code",
   "execution_count": 5,
   "id": "fdff8f30",
   "metadata": {},
   "outputs": [
    {
     "data": {
      "text/plain": [
       "False"
      ]
     },
     "execution_count": 5,
     "metadata": {},
     "output_type": "execute_result"
    }
   ],
   "source": [
    "(d1==d2).all()"
   ]
  },
  {
   "cell_type": "code",
   "execution_count": 6,
   "id": "d5447533",
   "metadata": {},
   "outputs": [],
   "source": [
    "d3=np.load('/home/ubuntu/Downloads/FL/X_train3.npy')"
   ]
  },
  {
   "cell_type": "code",
   "execution_count": 9,
   "id": "6fe4d0b1",
   "metadata": {},
   "outputs": [
    {
     "name": "stderr",
     "output_type": "stream",
     "text": [
      "<ipython-input-9-a4035fdd2b83>:1: DeprecationWarning: elementwise comparison failed; this will raise an error in the future.\n",
      "  (d1==d3).all()\n"
     ]
    },
    {
     "ename": "AttributeError",
     "evalue": "'bool' object has no attribute 'all'",
     "output_type": "error",
     "traceback": [
      "\u001b[0;31m---------------------------------------------------------------------------\u001b[0m",
      "\u001b[0;31mAttributeError\u001b[0m                            Traceback (most recent call last)",
      "\u001b[0;32m<ipython-input-9-a4035fdd2b83>\u001b[0m in \u001b[0;36m<module>\u001b[0;34m\u001b[0m\n\u001b[0;32m----> 1\u001b[0;31m \u001b[0;34m(\u001b[0m\u001b[0md1\u001b[0m\u001b[0;34m==\u001b[0m\u001b[0md3\u001b[0m\u001b[0;34m)\u001b[0m\u001b[0;34m.\u001b[0m\u001b[0mall\u001b[0m\u001b[0;34m(\u001b[0m\u001b[0;34m)\u001b[0m\u001b[0;34m\u001b[0m\u001b[0;34m\u001b[0m\u001b[0m\n\u001b[0m",
      "\u001b[0;31mAttributeError\u001b[0m: 'bool' object has no attribute 'all'"
     ]
    }
   ],
   "source": [
    "(d1==d3).all()"
   ]
  },
  {
   "cell_type": "code",
   "execution_count": 10,
   "id": "c08f954c",
   "metadata": {},
   "outputs": [
    {
     "data": {
      "text/plain": [
       "(191, 40, 30, 1)"
      ]
     },
     "execution_count": 10,
     "metadata": {},
     "output_type": "execute_result"
    }
   ],
   "source": [
    "d3.shape"
   ]
  },
  {
   "cell_type": "code",
   "execution_count": 11,
   "id": "50a2d23f",
   "metadata": {},
   "outputs": [
    {
     "data": {
      "text/plain": [
       "(189, 40, 30, 1)"
      ]
     },
     "execution_count": 11,
     "metadata": {},
     "output_type": "execute_result"
    }
   ],
   "source": [
    "d2.shape"
   ]
  },
  {
   "cell_type": "code",
   "execution_count": 12,
   "id": "57eaadef",
   "metadata": {},
   "outputs": [
    {
     "data": {
      "text/plain": [
       "(189, 40, 30, 1)"
      ]
     },
     "execution_count": 12,
     "metadata": {},
     "output_type": "execute_result"
    }
   ],
   "source": [
    "d1.shape"
   ]
  },
  {
   "cell_type": "code",
   "execution_count": 21,
   "id": "3460a6a3",
   "metadata": {},
   "outputs": [
    {
     "data": {
      "image/png": "[encoded data removed]",
      "text/plain": [
       "<Figure size 432x288 with 1 Axes>"
      ]
     },
     "metadata": {
      "needs_background": "light"
     },
     "output_type": "display_data"
    }
   ],
   "source": [
    "import matplotlib.pyplot as plt\n",
    "import pandas as pd\n",
    "#0 \n",
    "precision=[0.85,0.88,0.88,0.86,0.88]\n",
    "\n",
    "recall=[0.88,0.88,0.88,0.96,0.88]\n",
    "\n",
    "f1=[0.87,0.88,0.88,0.91,0.88]\n",
    "\n",
    "accuracy=[0.8542,0.8750,0.8750,0.8958,0.8750]\n",
    "\n",
    "index = ['round1','round2','round3','round4','round5']\n",
    "\n",
    "df = pd.DataFrame({'accuracy':accuracy,\n",
    "                   'precision': precision,\n",
    "                   'recall': recall,\n",
    "                   'f1':f1\n",
    "                   }, index=index)\n",
    "\n",
    "ax = df.plot.bar(rot=0,color={\"accuracy\": \"orange\",\"precision\": \"blue\",\"recall\": \"green\",\"f1\": \"yellow\"})"
   ]
  },
  {
   "cell_type": "code",
   "execution_count": 23,
   "id": "066623ce",
   "metadata": {},
   "outputs": [
    {
     "data": {
      "image/png": "[encoded data removed]",
      "text/plain": [
       "<Figure size 432x288 with 1 Axes>"
      ]
     },
     "metadata": {
      "needs_background": "light"
     },
     "output_type": "display_data"
    }
   ],
   "source": [
    "#1\n",
    "precision=[0.86,0.86,0.86,0.95,0.86]\n",
    "\n",
    "recall=[0.82,0.86,0.86,0.82,0.86]\n",
    "\n",
    "f1=[0.84,0.86,0.86,0.88,0.86]\n",
    "\n",
    "accuracy=[0.8542,0.8750,0.8750,0.8958,0.8750]\n",
    "\n",
    "index = ['round1','round2','round3','round4','round5']\n",
    "\n",
    "df = pd.DataFrame({'accuracy':accuracy,\n",
    "                   'precision': precision,\n",
    "                   'recall': recall,\n",
    "                   'f1':f1\n",
    "                   }, index=index)\n",
    "\n",
    "ax = df.plot.bar(rot=0,color={\"accuracy\": \"orange\",\"precision\": \"blue\",\"recall\": \"green\",\"f1\": \"yellow\"})"
   ]
  },
  {
   "cell_type": "code",
   "execution_count": null,
   "id": "76d6fe14",
   "metadata": {},
   "outputs": [],
   "source": []
  }
 ],
 "metadata": {
  "kernelspec": {
   "display_name": "Python 3",
   "language": "python",
   "name": "python3"
  },
  "language_info": {
   "codemirror_mode": {
    "name": "ipython",
    "version": 3
   },
   "file_extension": ".py",
   "mimetype": "text/x-python",
   "name": "python",
   "nbconvert_exporter": "python",
   "pygments_lexer": "ipython3",
   "version": "3.8.8"
  }
 },
 "nbformat": 4,
 "nbformat_minor": 5
}
