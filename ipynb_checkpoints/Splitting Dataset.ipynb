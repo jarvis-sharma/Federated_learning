{
 "cells": [
  {
   "cell_type": "code",
   "execution_count": 75,
   "id": "eaea817b",
   "metadata": {},
   "outputs": [],
   "source": [
    "import json\n",
    "import numpy as np\n",
    "from sklearn.model_selection import train_test_split\n",
    "import random\n",
    "import math"
   ]
  },
  {
   "cell_type": "code",
   "execution_count": 76,
   "id": "11079cda",
   "metadata": {},
   "outputs": [],
   "source": [
    "DATASET_PATH = \"./data2.json\""
   ]
  },
  {
   "cell_type": "code",
   "execution_count": 77,
   "id": "825075f9",
   "metadata": {},
   "outputs": [],
   "source": [
    "def load_data(dataset_path):\n",
    "    with open(dataset_path,\"r\") as fp:\n",
    "        data = json.load(fp)\n",
    "    \n",
    "    #convert lists into np arrays\n",
    "    \n",
    "    X = np.array(data[\"mfcc\"])\n",
    "    y = np.array(data[\"labels\"])\n",
    "    \n",
    "    return X,y"
   ]
  },
  {
   "cell_type": "code",
   "execution_count": 78,
   "id": "29b831db",
   "metadata": {},
   "outputs": [
    {
     "name": "stdout",
     "output_type": "stream",
     "text": [
      "(179, 40, 30)\n"
     ]
    }
   ],
   "source": [
    "X,y = load_data(DATASET_PATH)\n",
    "print(X.shape)"
   ]
  },
  {
   "cell_type": "code",
   "execution_count": 79,
   "id": "3c60c701",
   "metadata": {},
   "outputs": [],
   "source": [
    "X_new = []\n",
    "y_new = []\n",
    "\n",
    "j=0\n",
    "loop_limit = X.shape[0]\n",
    "while(j<=loop_limit-1):\n",
    "    i = random.randint(0, X.shape[0]-1)\n",
    "    X_new.append(X[i])\n",
    "    y_new.append(y[i])\n",
    "\n",
    "    X = np.delete(X, i, axis=0)\n",
    "    y = np.delete(y, i, axis=0)\n",
    "\n",
    "    j+=1\n",
    "\n",
    "X = np.array(X_new)\n",
    "y = np.array(y_new)"
   ]
  },
  {
   "cell_type": "code",
   "execution_count": 80,
   "id": "d5ad4d1c",
   "metadata": {},
   "outputs": [
    {
     "data": {
      "text/plain": [
       "(179, 40, 30)"
      ]
     },
     "execution_count": 80,
     "metadata": {},
     "output_type": "execute_result"
    }
   ],
   "source": [
    "X.shape"
   ]
  },
  {
   "cell_type": "code",
   "execution_count": 81,
   "id": "368334fc",
   "metadata": {},
   "outputs": [],
   "source": [
    "with open('client1.npy','wb') as f:\n",
    "    np.save(f,X[:80])\n",
    "    np.save(f,y[:80])"
   ]
  },
  {
   "cell_type": "code",
   "execution_count": 82,
   "id": "0cf7f338",
   "metadata": {},
   "outputs": [],
   "source": [
    "with open('client2.npy','wb') as f:\n",
    "    np.save(f,X[80:160])\n",
    "    np.save(f,y[80:160])"
   ]
  },
  {
   "cell_type": "code",
   "execution_count": 83,
   "id": "2f040709",
   "metadata": {},
   "outputs": [],
   "source": [
    "with open('server.npy','wb') as f:\n",
    "    np.save(f,X[160:])\n",
    "    np.save(f,y[160:])"
   ]
  },
  {
   "cell_type": "code",
   "execution_count": 84,
   "id": "6147364a",
   "metadata": {},
   "outputs": [],
   "source": [
    "def load_data(dataset_path):\n",
    "    with open(dataset_path,\"rb\") as f:\n",
    "        X = np.load(f)\n",
    "        y = np.load(f)\n",
    "    return X,y"
   ]
  },
  {
   "cell_type": "code",
   "execution_count": 89,
   "id": "507af318",
   "metadata": {},
   "outputs": [],
   "source": [
    "X_c1,y_c1 = load_data('./client1.npy')"
   ]
  },
  {
   "cell_type": "code",
   "execution_count": 90,
   "id": "74bc2e75",
   "metadata": {},
   "outputs": [
    {
     "name": "stdout",
     "output_type": "stream",
     "text": [
      "[1 1 1 0 0 1 0 1 0 1 0 1 1 1 0 1 1 1 1 0 1 0 0 1 1 1 0 1 1 0 1 1 0 0 0 1 1\n",
      " 0 0 1 0 0 0 0 0 1 1 0 1 0 1 0 1 0 1 1 1 1 0 1 1 0 1 0 1 1 0 1 0 0 0 1 0 1\n",
      " 1 1 0 0 1 0]\n"
     ]
    }
   ],
   "source": [
    "print(y_c1)"
   ]
  },
  {
   "cell_type": "code",
   "execution_count": null,
   "id": "c890ebe1",
   "metadata": {},
   "outputs": [],
   "source": []
  }
 ],
 "metadata": {
  "kernelspec": {
   "display_name": "Python 3",
   "language": "python",
   "name": "python3"
  },
  "language_info": {
   "codemirror_mode": {
    "name": "ipython",
    "version": 3
   },
   "file_extension": ".py",
   "mimetype": "text/x-python",
   "name": "python",
   "nbconvert_exporter": "python",
   "pygments_lexer": "ipython3",
   "version": "3.8.10"
  }
 },
 "nbformat": 4,
 "nbformat_minor": 5
}
