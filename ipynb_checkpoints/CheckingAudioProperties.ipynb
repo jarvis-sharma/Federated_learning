{
 "cells": [
  {
   "cell_type": "code",
   "execution_count": 1,
   "id": "e26595bc",
   "metadata": {},
   "outputs": [],
   "source": [
    "import os\n",
    "import wave"
   ]
  },
  {
   "cell_type": "code",
   "execution_count": 2,
   "id": "a7598505",
   "metadata": {},
   "outputs": [
    {
     "data": {
      "text/plain": [
       "['Splitting Dataset.ipynb',\n",
       " 'titanic.csv',\n",
       " 'CheckingAudioProperties.ipynb',\n",
       " 'client1.npy',\n",
       " 'Testing_Models.ipynb',\n",
       " 'data.json',\n",
       " 'client2.npy',\n",
       " 'Model_Training.ipynb',\n",
       " '.ipynb_checkpoints',\n",
       " 'data2.json',\n",
       " '.git',\n",
       " 'Train_Test_Example.ipynb',\n",
       " 'server.npy',\n",
       " 'Pre-Processing.ipynb',\n",
       " 'Final_Dataset']"
      ]
     },
     "execution_count": 2,
     "metadata": {},
     "output_type": "execute_result"
    }
   ],
   "source": [
    "os.listdir()"
   ]
  },
  {
   "cell_type": "code",
   "execution_count": 20,
   "id": "58970682",
   "metadata": {},
   "outputs": [],
   "source": [
    "path = './Final_Dataset/not-covid/not_covid_6.wav'"
   ]
  },
  {
   "cell_type": "code",
   "execution_count": 23,
   "id": "0862beb1",
   "metadata": {},
   "outputs": [],
   "source": [
    "with wave.open(path,'rb') as wave_file:\n",
    "    frame_rate = wave_file.getframerate()\n",
    "    chanels = wave_file.getnchannels()"
   ]
  },
  {
   "cell_type": "code",
   "execution_count": 24,
   "id": "d3b505d7",
   "metadata": {},
   "outputs": [
    {
     "name": "stdout",
     "output_type": "stream",
     "text": [
      "48000\n"
     ]
    }
   ],
   "source": [
    "print(frame_rate)"
   ]
  },
  {
   "cell_type": "code",
   "execution_count": 25,
   "id": "eeaf4174",
   "metadata": {},
   "outputs": [
    {
     "name": "stdout",
     "output_type": "stream",
     "text": [
      "1\n"
     ]
    }
   ],
   "source": [
    "print(chanels)"
   ]
  },
  {
   "cell_type": "code",
   "execution_count": null,
   "id": "71e3b817",
   "metadata": {},
   "outputs": [],
   "source": []
  }
 ],
 "metadata": {
  "kernelspec": {
   "display_name": "Python 3",
   "language": "python",
   "name": "python3"
  },
  "language_info": {
   "codemirror_mode": {
    "name": "ipython",
    "version": 3
   },
   "file_extension": ".py",
   "mimetype": "text/x-python",
   "name": "python",
   "nbconvert_exporter": "python",
   "pygments_lexer": "ipython3",
   "version": "3.8.10"
  }
 },
 "nbformat": 4,
 "nbformat_minor": 5
}
